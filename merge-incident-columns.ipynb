{
 "cells": [
  {
   "cell_type": "code",
   "execution_count": 1,
   "metadata": {},
   "outputs": [],
   "source": [
    "import pandas as pd"
   ]
  },
  {
   "cell_type": "code",
   "execution_count": 2,
   "metadata": {},
   "outputs": [],
   "source": [
    "filepath = 'scrubber/data_scrubbed.csv'\n",
    "df = pd.read_csv(filepath)\n",
    "pd.set_option('display.max_columns', None)\n",
    "df['INCIDENT_TYPE'] = df['INCIDENT_1_OLD'].fillna('') + df['INCIDENT_TYPE_1'].fillna('')"
   ]
  },
  {
   "cell_type": "code",
   "execution_count": 3,
   "metadata": {},
   "outputs": [],
   "source": [
    "df = df[[col for col in df if col not in ['INCIDENT_TYPE_1', 'INCIDENT_TYPE_2', 'INCIDENT_1_OLD', 'INCIDENT_TYPE_OTHER']] \n",
    "        + ['INCIDENT_TYPE_2', 'INCIDENT_TYPE_OTHER']]"
   ]
  },
  {
   "cell_type": "markdown",
   "metadata": {},
   "source": [
    "Incident Types will be at the end of the csv."
   ]
  },
  {
   "cell_type": "code",
   "execution_count": 4,
   "metadata": {},
   "outputs": [],
   "source": [
    "df.to_csv('merged-data/merged_data.csv')"
   ]
  }
 ],
 "metadata": {
  "kernelspec": {
   "display_name": "Python [conda env:root] *",
   "language": "python",
   "name": "conda-root-py"
  },
  "language_info": {
   "codemirror_mode": {
    "name": "ipython",
    "version": 3
   },
   "file_extension": ".py",
   "mimetype": "text/x-python",
   "name": "python",
   "nbconvert_exporter": "python",
   "pygments_lexer": "ipython3",
   "version": "3.7.6"
  }
 },
 "nbformat": 4,
 "nbformat_minor": 4
}
